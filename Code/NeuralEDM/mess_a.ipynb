{
 "cells": [
  {
   "cell_type": "code",
   "execution_count": null,
   "metadata": {},
   "outputs": [],
   "source": [
    "import random\n",
    "import pandas as pd\n",
    "import numpy as np\n",
    "import torch\n",
    "import os"
   ]
  },
  {
   "cell_type": "code",
   "execution_count": 5,
   "metadata": {},
   "outputs": [
    {
     "data": {
      "text/html": [
       "<div>\n",
       "<style scoped>\n",
       "    .dataframe tbody tr th:only-of-type {\n",
       "        vertical-align: middle;\n",
       "    }\n",
       "\n",
       "    .dataframe tbody tr th {\n",
       "        vertical-align: top;\n",
       "    }\n",
       "\n",
       "    .dataframe thead th {\n",
       "        text-align: right;\n",
       "    }\n",
       "</style>\n",
       "<table border=\"1\" class=\"dataframe\">\n",
       "  <thead>\n",
       "    <tr style=\"text-align: right;\">\n",
       "      <th></th>\n",
       "      <th>Avg_Chloro</th>\n",
       "      <th>Nitrate</th>\n",
       "      <th>Phosphate</th>\n",
       "      <th>Silicate</th>\n",
       "      <th>Nitrite</th>\n",
       "      <th>SURF_TEMP_C</th>\n",
       "      <th>BOT_TEMP_C</th>\n",
       "      <th>SURF_SAL_PSU</th>\n",
       "      <th>BOT_SAL_PSU</th>\n",
       "      <th>SURF_DENS_kgm3</th>\n",
       "      <th>BOT_DENS_kgm3</th>\n",
       "      <th>AVG_TEMP_C</th>\n",
       "      <th>AVG_SAL_PSU</th>\n",
       "      <th>AVG_DENS_kgm3</th>\n",
       "      <th>Time</th>\n",
       "    </tr>\n",
       "    <tr>\n",
       "      <th>time (UTC)</th>\n",
       "      <th></th>\n",
       "      <th></th>\n",
       "      <th></th>\n",
       "      <th></th>\n",
       "      <th></th>\n",
       "      <th></th>\n",
       "      <th></th>\n",
       "      <th></th>\n",
       "      <th></th>\n",
       "      <th></th>\n",
       "      <th></th>\n",
       "      <th></th>\n",
       "      <th></th>\n",
       "      <th></th>\n",
       "      <th></th>\n",
       "    </tr>\n",
       "  </thead>\n",
       "  <tbody>\n",
       "    <tr>\n",
       "      <th>0.0</th>\n",
       "      <td>1.82</td>\n",
       "      <td>0.43</td>\n",
       "      <td>0.24</td>\n",
       "      <td>5.6</td>\n",
       "      <td>0.03</td>\n",
       "      <td>20.3</td>\n",
       "      <td>15.9</td>\n",
       "      <td>33.77</td>\n",
       "      <td>33.62</td>\n",
       "      <td>1023.638094</td>\n",
       "      <td>1024.620655</td>\n",
       "      <td>18.10</td>\n",
       "      <td>33.695</td>\n",
       "      <td>1024.129374</td>\n",
       "      <td>0</td>\n",
       "    </tr>\n",
       "    <tr>\n",
       "      <th>7.0</th>\n",
       "      <td>2.71</td>\n",
       "      <td>0.83</td>\n",
       "      <td>0.37</td>\n",
       "      <td>5.1</td>\n",
       "      <td>0.04</td>\n",
       "      <td>17.8</td>\n",
       "      <td>16.9</td>\n",
       "      <td>33.66</td>\n",
       "      <td>33.62</td>\n",
       "      <td>1024.186379</td>\n",
       "      <td>1024.391719</td>\n",
       "      <td>17.35</td>\n",
       "      <td>33.640</td>\n",
       "      <td>1024.289049</td>\n",
       "      <td>7</td>\n",
       "    </tr>\n",
       "    <tr>\n",
       "      <th>13.0</th>\n",
       "      <td>0.99</td>\n",
       "      <td>0.45</td>\n",
       "      <td>0.24</td>\n",
       "      <td>3.5</td>\n",
       "      <td>0.00</td>\n",
       "      <td>22.2</td>\n",
       "      <td>18.3</td>\n",
       "      <td>33.74</td>\n",
       "      <td>33.58</td>\n",
       "      <td>1023.100557</td>\n",
       "      <td>1024.026040</td>\n",
       "      <td>20.25</td>\n",
       "      <td>33.660</td>\n",
       "      <td>1023.563298</td>\n",
       "      <td>13</td>\n",
       "    </tr>\n",
       "    <tr>\n",
       "      <th>20.0</th>\n",
       "      <td>1.23</td>\n",
       "      <td>0.34</td>\n",
       "      <td>0.17</td>\n",
       "      <td>4.2</td>\n",
       "      <td>0.00</td>\n",
       "      <td>19.8</td>\n",
       "      <td>19.4</td>\n",
       "      <td>33.68</td>\n",
       "      <td>33.62</td>\n",
       "      <td>1023.701088</td>\n",
       "      <td>1023.780535</td>\n",
       "      <td>9.90</td>\n",
       "      <td>33.650</td>\n",
       "      <td>1023.740812</td>\n",
       "      <td>20</td>\n",
       "    </tr>\n",
       "    <tr>\n",
       "      <th>28.0</th>\n",
       "      <td>2.41</td>\n",
       "      <td>0.29</td>\n",
       "      <td>0.12</td>\n",
       "      <td>3.8</td>\n",
       "      <td>0.00</td>\n",
       "      <td>22.5</td>\n",
       "      <td>22.5</td>\n",
       "      <td>33.73</td>\n",
       "      <td>33.69</td>\n",
       "      <td>1023.009067</td>\n",
       "      <td>1023.000725</td>\n",
       "      <td>11.25</td>\n",
       "      <td>33.710</td>\n",
       "      <td>1023.004896</td>\n",
       "      <td>28</td>\n",
       "    </tr>\n",
       "    <tr>\n",
       "      <th>...</th>\n",
       "      <td>...</td>\n",
       "      <td>...</td>\n",
       "      <td>...</td>\n",
       "      <td>...</td>\n",
       "      <td>...</td>\n",
       "      <td>...</td>\n",
       "      <td>...</td>\n",
       "      <td>...</td>\n",
       "      <td>...</td>\n",
       "      <td>...</td>\n",
       "      <td>...</td>\n",
       "      <td>...</td>\n",
       "      <td>...</td>\n",
       "      <td>...</td>\n",
       "      <td>...</td>\n",
       "    </tr>\n",
       "    <tr>\n",
       "      <th>5789.0</th>\n",
       "      <td>3.22</td>\n",
       "      <td>0.85</td>\n",
       "      <td>0.30</td>\n",
       "      <td>6.2</td>\n",
       "      <td>0.00</td>\n",
       "      <td>17.4</td>\n",
       "      <td>17.4</td>\n",
       "      <td>33.48</td>\n",
       "      <td>33.46</td>\n",
       "      <td>1024.146195</td>\n",
       "      <td>1024.152950</td>\n",
       "      <td>17.40</td>\n",
       "      <td>33.470</td>\n",
       "      <td>1024.149572</td>\n",
       "      <td>5789</td>\n",
       "    </tr>\n",
       "    <tr>\n",
       "      <th>5796.0</th>\n",
       "      <td>3.39</td>\n",
       "      <td>0.45</td>\n",
       "      <td>0.25</td>\n",
       "      <td>4.9</td>\n",
       "      <td>0.00</td>\n",
       "      <td>17.9</td>\n",
       "      <td>17.9</td>\n",
       "      <td>33.48</td>\n",
       "      <td>33.47</td>\n",
       "      <td>1024.026335</td>\n",
       "      <td>1024.040616</td>\n",
       "      <td>17.90</td>\n",
       "      <td>33.475</td>\n",
       "      <td>1024.033476</td>\n",
       "      <td>5796</td>\n",
       "    </tr>\n",
       "    <tr>\n",
       "      <th>5803.0</th>\n",
       "      <td>7.82</td>\n",
       "      <td>0.00</td>\n",
       "      <td>0.17</td>\n",
       "      <td>5.2</td>\n",
       "      <td>0.00</td>\n",
       "      <td>18.3</td>\n",
       "      <td>16.4</td>\n",
       "      <td>33.54</td>\n",
       "      <td>33.55</td>\n",
       "      <td>1023.974093</td>\n",
       "      <td>1024.454252</td>\n",
       "      <td>17.35</td>\n",
       "      <td>33.545</td>\n",
       "      <td>1024.214172</td>\n",
       "      <td>5803</td>\n",
       "    </tr>\n",
       "    <tr>\n",
       "      <th>5811.0</th>\n",
       "      <td>17.30</td>\n",
       "      <td>0.00</td>\n",
       "      <td>0.20</td>\n",
       "      <td>9.4</td>\n",
       "      <td>0.00</td>\n",
       "      <td>18.0</td>\n",
       "      <td>17.4</td>\n",
       "      <td>33.64</td>\n",
       "      <td>33.61</td>\n",
       "      <td>1024.122823</td>\n",
       "      <td>1024.266323</td>\n",
       "      <td>17.70</td>\n",
       "      <td>33.625</td>\n",
       "      <td>1024.194573</td>\n",
       "      <td>5811</td>\n",
       "    </tr>\n",
       "    <tr>\n",
       "      <th>5817.0</th>\n",
       "      <td>16.71</td>\n",
       "      <td>0.00</td>\n",
       "      <td>0.10</td>\n",
       "      <td>7.5</td>\n",
       "      <td>0.00</td>\n",
       "      <td>18.4</td>\n",
       "      <td>17.2</td>\n",
       "      <td>33.63</td>\n",
       "      <td>33.62</td>\n",
       "      <td>1024.017322</td>\n",
       "      <td>1024.321284</td>\n",
       "      <td>17.80</td>\n",
       "      <td>33.625</td>\n",
       "      <td>1024.169303</td>\n",
       "      <td>5817</td>\n",
       "    </tr>\n",
       "  </tbody>\n",
       "</table>\n",
       "<p>832 rows × 15 columns</p>\n",
       "</div>"
      ],
      "text/plain": [
       "            Avg_Chloro  Nitrate  Phosphate  Silicate  Nitrite  SURF_TEMP_C  \\\n",
       "time (UTC)                                                                   \n",
       "0.0               1.82     0.43       0.24       5.6     0.03         20.3   \n",
       "7.0               2.71     0.83       0.37       5.1     0.04         17.8   \n",
       "13.0              0.99     0.45       0.24       3.5     0.00         22.2   \n",
       "20.0              1.23     0.34       0.17       4.2     0.00         19.8   \n",
       "28.0              2.41     0.29       0.12       3.8     0.00         22.5   \n",
       "...                ...      ...        ...       ...      ...          ...   \n",
       "5789.0            3.22     0.85       0.30       6.2     0.00         17.4   \n",
       "5796.0            3.39     0.45       0.25       4.9     0.00         17.9   \n",
       "5803.0            7.82     0.00       0.17       5.2     0.00         18.3   \n",
       "5811.0           17.30     0.00       0.20       9.4     0.00         18.0   \n",
       "5817.0           16.71     0.00       0.10       7.5     0.00         18.4   \n",
       "\n",
       "            BOT_TEMP_C  SURF_SAL_PSU  BOT_SAL_PSU  SURF_DENS_kgm3  \\\n",
       "time (UTC)                                                          \n",
       "0.0               15.9         33.77        33.62     1023.638094   \n",
       "7.0               16.9         33.66        33.62     1024.186379   \n",
       "13.0              18.3         33.74        33.58     1023.100557   \n",
       "20.0              19.4         33.68        33.62     1023.701088   \n",
       "28.0              22.5         33.73        33.69     1023.009067   \n",
       "...                ...           ...          ...             ...   \n",
       "5789.0            17.4         33.48        33.46     1024.146195   \n",
       "5796.0            17.9         33.48        33.47     1024.026335   \n",
       "5803.0            16.4         33.54        33.55     1023.974093   \n",
       "5811.0            17.4         33.64        33.61     1024.122823   \n",
       "5817.0            17.2         33.63        33.62     1024.017322   \n",
       "\n",
       "            BOT_DENS_kgm3  AVG_TEMP_C  AVG_SAL_PSU  AVG_DENS_kgm3  Time  \n",
       "time (UTC)                                                               \n",
       "0.0           1024.620655       18.10       33.695    1024.129374     0  \n",
       "7.0           1024.391719       17.35       33.640    1024.289049     7  \n",
       "13.0          1024.026040       20.25       33.660    1023.563298    13  \n",
       "20.0          1023.780535        9.90       33.650    1023.740812    20  \n",
       "28.0          1023.000725       11.25       33.710    1023.004896    28  \n",
       "...                   ...         ...          ...            ...   ...  \n",
       "5789.0        1024.152950       17.40       33.470    1024.149572  5789  \n",
       "5796.0        1024.040616       17.90       33.475    1024.033476  5796  \n",
       "5803.0        1024.454252       17.35       33.545    1024.214172  5803  \n",
       "5811.0        1024.266323       17.70       33.625    1024.194573  5811  \n",
       "5817.0        1024.321284       17.80       33.625    1024.169303  5817  \n",
       "\n",
       "[832 rows x 15 columns]"
      ]
     },
     "execution_count": 5,
     "metadata": {},
     "output_type": "execute_result"
    }
   ],
   "source": [
    "paper_data = pd.read_csv('../Data/cleaned_data.csv')\n",
    "paper_data = paper_data.set_index('time (UTC)')\n",
    "paper_data['Time'] = paper_data.index.astype(int)\n",
    "paper_data"
   ]
  },
  {
   "cell_type": "code",
   "execution_count": 6,
   "metadata": {},
   "outputs": [],
   "source": [
    "def create_embeddings(data, E, tau, target=None):\n",
    "    \"\"\"\n",
    "    Create time delay embeddings from time series data.\n",
    "    \n",
    "    Parameters:\n",
    "    data (DataFrame): Input time series data where columns are features\n",
    "    E (int): Maximum embedding dimension (number of time steps back)\n",
    "    tau (int): Time delay between steps (absolute value will be used)\n",
    "    target (str): Name of the target column in data\n",
    "    \n",
    "    Returns:\n",
    "    X (list): List of embedded vectors, where each vector contains lagged values\n",
    "    y (list): List of target values corresponding to each embedding\n",
    "    \"\"\"\n",
    "    # Input validation\n",
    "    if not isinstance(data, pd.DataFrame):\n",
    "        raise TypeError(\"data must be a pandas DataFrame\")\n",
    "    if target not in data.columns:\n",
    "        raise ValueError(f\"target column '{target}' not found in data\")\n",
    "    if E < 1:\n",
    "        raise ValueError(\"E must be at least 1\")\n",
    "    \n",
    "    X = []\n",
    "    y = []\n",
    "    \n",
    "    # Get the target column and ensure it's a numpy array\n",
    "    target_values = data[target].values\n",
    "    \n",
    "    # Use absolute value of tau to ensure positive time delay\n",
    "    tau = abs(tau)\n",
    "    \n",
    "    # Calculate the total length of history needed\n",
    "    history_needed = (E - 1) * tau\n",
    "    \n",
    "    # Create embeddings for each viable time point\n",
    "    for i in range(len(data)):\n",
    "        # Skip points that don't have enough history\n",
    "        if i < history_needed:\n",
    "            continue\n",
    "            \n",
    "        # Create the embedding vector for this time point\n",
    "        embedding = []\n",
    "        \n",
    "        # Add lagged values\n",
    "        for e in range(E):\n",
    "            # Calculate the index to look back to\n",
    "            lag_idx = i - (e * tau)\n",
    "            if lag_idx < 0:  # Safety check\n",
    "                continue\n",
    "            embedding.append(target_values[lag_idx])\n",
    "        \n",
    "        # Only add complete embeddings\n",
    "        if len(embedding) == E:\n",
    "            X.append(embedding)\n",
    "            # Add the target value (next value in the series)\n",
    "            if i < len(data) - 1 and (target is not None):  # Ensure we have a next value\n",
    "                y.append(target_values[i + 1])\n",
    "    \n",
    "    # Convert to numpy arrays for convenience\n",
    "    X = np.array(X)\n",
    "    y = np.array(y)\n",
    "    \n",
    "    return X, y"
   ]
  },
  {
   "cell_type": "code",
   "execution_count": 7,
   "metadata": {},
   "outputs": [
    {
     "data": {
      "text/plain": [
       "array([0.99, 2.71, 1.82])"
      ]
     },
     "execution_count": 7,
     "metadata": {},
     "output_type": "execute_result"
    }
   ],
   "source": [
    "X, y = create_embeddings(paper_data,3,-1,'Avg_Chloro')\n",
    "X[0]"
   ]
  },
  {
   "cell_type": "code",
   "execution_count": 13,
   "metadata": {},
   "outputs": [],
   "source": [
    "def total_embeddings(data, E, tau, target):\n",
    "    X, y = create_embeddings(data, E, tau, target)  \n",
    "\n",
    "    result = X  \n",
    "\n",
    "    for col in data.columns:\n",
    "        if col != target:\n",
    "            X_cur, _ = create_embeddings(data, E, tau, col)\n",
    "\n",
    "            # Ensure all feature embeddings are properly stacked\n",
    "            result = np.hstack((result, X_cur))  \n",
    "\n",
    "    return result, y"
   ]
  },
  {
   "cell_type": "code",
   "execution_count": 11,
   "metadata": {},
   "outputs": [],
   "source": [
    "E = 3\n",
    "tau = -1\n",
    "target = \"Avg_Chloro\"\n",
    "\n",
    "X_emb, y_emb = total_embeddings(paper_data, E, tau, target)"
   ]
  },
  {
   "cell_type": "code",
   "execution_count": 16,
   "metadata": {},
   "outputs": [
    {
     "data": {
      "text/plain": [
       "(array([9.90000000e-01, 2.71000000e+00, 1.82000000e+00, 4.50000000e-01,\n",
       "        8.30000000e-01, 4.30000000e-01, 2.40000000e-01, 3.70000000e-01,\n",
       "        2.40000000e-01, 3.50000000e+00, 5.10000000e+00, 5.60000000e+00,\n",
       "        0.00000000e+00, 4.00000000e-02, 3.00000000e-02, 2.22000000e+01,\n",
       "        1.78000000e+01, 2.03000000e+01, 1.83000000e+01, 1.69000000e+01,\n",
       "        1.59000000e+01, 3.37400000e+01, 3.36600000e+01, 3.37700000e+01,\n",
       "        3.35800000e+01, 3.36200000e+01, 3.36200000e+01, 1.02310056e+03,\n",
       "        1.02418638e+03, 1.02363809e+03, 1.02402604e+03, 1.02439172e+03,\n",
       "        1.02462065e+03, 2.02500000e+01, 1.73500000e+01, 1.81000000e+01,\n",
       "        3.36600000e+01, 3.36400000e+01, 3.36950000e+01, 1.02356330e+03,\n",
       "        1.02428905e+03, 1.02412937e+03, 1.30000000e+01, 7.00000000e+00,\n",
       "        0.00000000e+00]),\n",
       " 1.23)"
      ]
     },
     "execution_count": 16,
     "metadata": {},
     "output_type": "execute_result"
    }
   ],
   "source": [
    "X_emb[0], y_emb[0]"
   ]
  },
  {
   "cell_type": "code",
   "execution_count": 44,
   "metadata": {},
   "outputs": [],
   "source": [
    "from utils import get_data\n",
    "from nn_edm import NNEDMModel\n",
    "from HABs_dataset import HABsDataset\n",
    "from train import train, eval\n",
    "from torch.utils.data import Dataset, DataLoader\n",
    "import matplotlib.pyplot as plt"
   ]
  },
  {
   "cell_type": "code",
   "execution_count": null,
   "metadata": {},
   "outputs": [],
   "source": [
    "tau_lengths = [-1,-2,-3]\n",
    "E = 6\n",
    "target = 'Avg_Chloro'\n",
    "X, y = get_data(paper_data, E, tau_lengths, target=target) #returns numpy arrays \n",
    "embd_sz = len(paper_data.columns) * E * len(tau_lengths)"
   ]
  },
  {
   "cell_type": "code",
   "execution_count": 120,
   "metadata": {},
   "outputs": [],
   "source": [
    "X_tensor = torch.tensor(X, dtype=torch.float32)\n",
    "X_mean = X_tensor.mean(dim=0, keepdim=True)\n",
    "X_std = X_tensor.std(dim=0, keepdim=True)\n",
    "X_tensor = (X_tensor - X_mean) / (X_std + 1e-8)  # Add small value to avoid division by zero\n",
    "\n",
    "y_tensor = torch.tensor(y, dtype=torch.float32)\n",
    "y_tensor = (y_tensor - y_tensor.mean()) / (y_tensor.std() + 1e-8)"
   ]
  },
  {
   "cell_type": "code",
   "execution_count": 121,
   "metadata": {},
   "outputs": [
    {
     "name": "stdout",
     "output_type": "stream",
     "text": [
      "Data processed: X shape torch.Size([817, 270]), y shape torch.Size([816])\n"
     ]
    }
   ],
   "source": [
    "print(f\"Data processed: X shape {X_tensor.shape}, y shape {y_tensor.shape}\")"
   ]
  },
  {
   "cell_type": "code",
   "execution_count": 122,
   "metadata": {},
   "outputs": [],
   "source": [
    "# Train test split\n",
    "len_data = len(y_tensor)\n",
    "train_frac, val_frac, test_frac = 0.5, 0.3, 0.2  \n",
    "\n",
    "train_size = int(train_frac * len_data)\n",
    "val_size = int(val_frac * len_data)\n",
    "test_size = len_data - train_size - val_size  "
   ]
  },
  {
   "cell_type": "code",
   "execution_count": 123,
   "metadata": {},
   "outputs": [],
   "source": [
    "# Random seed\n",
    "torch.manual_seed(0)\n",
    "indices = torch.randperm(len_data)"
   ]
  },
  {
   "cell_type": "code",
   "execution_count": 124,
   "metadata": {},
   "outputs": [],
   "source": [
    "train_indices = indices[:train_size]\n",
    "val_indices = indices[train_size:train_size + val_size]\n",
    "test_indices = indices[train_size + val_size:]"
   ]
  },
  {
   "cell_type": "code",
   "execution_count": 125,
   "metadata": {},
   "outputs": [],
   "source": [
    "X_train, y_train = X_tensor[train_indices], y_tensor[train_indices]\n",
    "X_val, y_val = X_tensor[val_indices], y_tensor[val_indices]\n",
    "X_test, y_test = X_tensor[test_indices], y_tensor[test_indices]"
   ]
  },
  {
   "cell_type": "code",
   "execution_count": 126,
   "metadata": {},
   "outputs": [],
   "source": [
    "train_dataset = HABsDataset(X_train, y_train)\n",
    "train_dataloader = DataLoader(train_dataset, batch_size=64, shuffle=True)\n",
    "\n",
    "val_dataset = HABsDataset(X_val, y_val)\n",
    "val_dataloader = DataLoader(val_dataset, batch_size=64, shuffle=False)\n",
    "\n",
    "test_dataset = HABsDataset(X_test, y_test)\n",
    "test_dataloader = DataLoader(test_dataset, batch_size=64, shuffle=False)\n"
   ]
  },
  {
   "cell_type": "code",
   "execution_count": 127,
   "metadata": {},
   "outputs": [],
   "source": [
    "device = torch.device(\"cuda\" if torch.cuda.is_available() else \"cpu\")\n",
    "\n",
    "embd_sz = X_tensor.shape[1]"
   ]
  },
  {
   "cell_type": "code",
   "execution_count": 139,
   "metadata": {},
   "outputs": [],
   "source": [
    "model = NNEDMModel(embd_sz, hidden_size=100).to(device)"
   ]
  },
  {
   "cell_type": "code",
   "execution_count": 140,
   "metadata": {},
   "outputs": [
    {
     "name": "stdout",
     "output_type": "stream",
     "text": [
      "Finish epoch 0, time elapsed 0.01334691047668457\n",
      "Loss at epoch: 0 is 0.3093560077250004\n",
      "Finish epoch 100, time elapsed 0.005398988723754883\n",
      "Loss at epoch: 100 is 0.2920171618461609\n",
      "Finish epoch 200, time elapsed 0.005146026611328125\n",
      "Loss at epoch: 200 is 0.2818685993552208\n",
      "Finish epoch 300, time elapsed 0.004091978073120117\n",
      "Loss at epoch: 300 is 0.27692584693431854\n",
      "Finish epoch 400, time elapsed 0.016876697540283203\n",
      "Loss at epoch: 400 is 0.27352432906627655\n",
      "Finish epoch 500, time elapsed 0.0057218074798583984\n",
      "Loss at epoch: 500 is 0.27138957008719444\n",
      "Finish epoch 600, time elapsed 0.0044400691986083984\n",
      "Loss at epoch: 600 is 0.26989633589982986\n",
      "Finish epoch 700, time elapsed 0.00570988655090332\n",
      "Loss at epoch: 700 is 0.2692127302289009\n",
      "Finish epoch 800, time elapsed 0.003996849060058594\n",
      "Loss at epoch: 800 is 0.26757510378956795\n",
      "Finish epoch 900, time elapsed 0.007546901702880859\n",
      "Loss at epoch: 900 is 0.26623252406716347\n"
     ]
    },
    {
     "data": {
      "image/png": "[encoded data removed]",
      "text/plain": [
       "<Figure size 640x480 with 1 Axes>"
      ]
     },
     "metadata": {},
     "output_type": "display_data"
    }
   ],
   "source": [
    "train(model=model,\n",
    "      device=device,\n",
    "      train_dataloader=train_dataloader,\n",
    "      val_dataloader=val_dataloader)"
   ]
  },
  {
   "cell_type": "code",
   "execution_count": 141,
   "metadata": {},
   "outputs": [
    {
     "name": "stdout",
     "output_type": "stream",
     "text": [
      "Loss is 1.4036613702774048\n"
     ]
    },
    {
     "data": {
      "text/plain": [
       "1.4036613702774048"
      ]
     },
     "execution_count": 141,
     "metadata": {},
     "output_type": "execute_result"
    }
   ],
   "source": [
    "eval(model=model,\n",
    "     device=device,\n",
    "     val_dataloader=test_dataloader)"
   ]
  },
  {
   "cell_type": "code",
   "execution_count": 142,
   "metadata": {},
   "outputs": [
    {
     "name": "stdout",
     "output_type": "stream",
     "text": [
      "Predictions: [0.02355456 0.02355406 0.02355282 0.0235529  0.02355464 0.02355356\n",
      " 0.02355438 0.02355226 0.02355421 0.02355392]\n",
      "Actual: [ 0.215728   -0.3061799  -0.19145711 -0.24316314 -0.22538921  0.04606755\n",
      "  0.08161546 -0.0751185  -0.39666548 -0.22215757]\n"
     ]
    }
   ],
   "source": [
    "model.eval()\n",
    "sample_inputs, sample_labels = next(iter(test_dataloader))  # Get a batch\n",
    "sample_inputs = sample_inputs.to(device)\n",
    "preds = model(sample_inputs).cpu().detach().numpy()\n",
    "\n",
    "print(\"Predictions:\", preds[:10])\n",
    "print(\"Actual:\", sample_labels[:10].numpy())"
   ]
  },
  {
   "cell_type": "code",
   "execution_count": 143,
   "metadata": {},
   "outputs": [],
   "source": [
    "for param in model.parameters():\n",
    "    torch.nn.utils.clip_grad_norm_(param, max_norm=1.0)"
   ]
  },
  {
   "cell_type": "code",
   "execution_count": 144,
   "metadata": {},
   "outputs": [
    {
     "data": {
      "image/png": "[encoded data removed]",
      "text/plain": [
       "<Figure size 640x480 with 1 Axes>"
      ]
     },
     "metadata": {},
     "output_type": "display_data"
    }
   ],
   "source": [
    "plt.scatter(sample_labels.numpy(), preds)\n",
    "plt.xlabel(\"Actual Values\")\n",
    "plt.ylabel(\"Predicted Values\")\n",
    "plt.title(\"Predictions vs. Actual Values\")\n",
    "plt.show()"
   ]
  },
  {
   "cell_type": "code",
   "execution_count": null,
   "metadata": {},
   "outputs": [],
   "source": []
  }
 ],
 "metadata": {
  "kernelspec": {
   "display_name": "Python 3",
   "language": "python",
   "name": "python3"
  },
  "language_info": {
   "codemirror_mode": {
    "name": "ipython",
    "version": 3
   },
   "file_extension": ".py",
   "mimetype": "text/x-python",
   "name": "python",
   "nbconvert_exporter": "python",
   "pygments_lexer": "ipython3",
   "version": "3.11.1"
  }
 },
 "nbformat": 4,
 "nbformat_minor": 2
}
