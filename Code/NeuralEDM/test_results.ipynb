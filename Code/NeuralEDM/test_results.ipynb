{
 "cells": [
  {
   "cell_type": "code",
   "execution_count": 59,
   "metadata": {},
   "outputs": [
    {
     "ename": "ModuleNotFoundError",
     "evalue": "No module named 'gru_nn.py'; 'gru_nn' is not a package",
     "output_type": "error",
     "traceback": [
      "\u001b[0;31m---------------------------------------------------------------------------\u001b[0m",
      "\u001b[0;31mModuleNotFoundError\u001b[0m                       Traceback (most recent call last)",
      "Cell \u001b[0;32mIn[59], line 8\u001b[0m\n\u001b[1;32m      6\u001b[0m \u001b[38;5;28;01mimport\u001b[39;00m \u001b[38;5;21;01mpandas\u001b[39;00m \u001b[38;5;28;01mas\u001b[39;00m \u001b[38;5;21;01mpd\u001b[39;00m\n\u001b[1;32m      7\u001b[0m \u001b[38;5;28;01mfrom\u001b[39;00m \u001b[38;5;21;01mnn_edm\u001b[39;00m \u001b[38;5;28;01mimport\u001b[39;00m \u001b[38;5;241m*\u001b[39m\n\u001b[0;32m----> 8\u001b[0m \u001b[38;5;28;01mfrom\u001b[39;00m \u001b[38;5;21;01mgru_nn\u001b[39;00m\u001b[38;5;21;01m.\u001b[39;00m\u001b[38;5;21;01mpy\u001b[39;00m \u001b[38;5;28;01mimport\u001b[39;00m \u001b[38;5;241m*\u001b[39m\n",
      "\u001b[0;31mModuleNotFoundError\u001b[0m: No module named 'gru_nn.py'; 'gru_nn' is not a package"
     ]
    }
   ],
   "source": [
    "import random\n",
    "import numpy as np\n",
    "import torch\n",
    "import matplotlib.pyplot as plt\n",
    "import os\n",
    "import pandas as pd\n",
    "from nn_edm import *\n",
    "from gru_nn.py import *"
   ]
  },
  {
   "cell_type": "code",
   "execution_count": 55,
   "metadata": {},
   "outputs": [],
   "source": [
    "'''\n",
    "Binary prediction skill (“bloom” or “no bloom”) is\n",
    "evaluated by how well bloom predictions above a defined threshold\n",
    "correspond to bloom observations above the same threshold\n",
    "Input: Series of observed chlorophyll-a, series of predicted chlorophyll-1\n",
    "Output: Arrray containing [Accuracy, True Positive Rate, False Positive Rate, True Negative Rate, False Negative Rate]\n",
    "'''\n",
    "def thresh_bloom_binary_prediction(obs,pred,threshold=8.03199999999999):\n",
    "    obs_blooms = obs > threshold\n",
    "    pred_blooms = pred > threshold\n",
    "    Accuracy = 1 - (obs_blooms ^ pred_blooms).mean()\n",
    "    True_pos = (obs_blooms & pred_blooms).sum() / obs_blooms.sum()\n",
    "    False_pos = ((~obs_blooms) & pred_blooms).sum() / (~obs_blooms).sum()\n",
    "    True_neg = ((~obs_blooms) & (~pred_blooms)).sum() / (~obs_blooms).sum()\n",
    "    False_neg = (obs_blooms & (~pred_blooms)).sum() / obs_blooms.sum()\n",
    "    \n",
    "    return [Accuracy, True_pos, False_pos, True_neg, False_neg]"
   ]
  },
  {
   "cell_type": "code",
   "execution_count": 56,
   "metadata": {},
   "outputs": [],
   "source": [
    "'''\n",
    "Binary prediction skill (“bloom” or “no bloom”) is\n",
    "evaluated by how well bloom predictions (5% largest predicted values)\n",
    "correspond to bloom observations (5%largest observed values)\n",
    "Input: Series of observed chlorophyll-a, series of predicted chlorophyll-1\n",
    "Output: Arrray containing [Accuracy, True Positive Rate, False Positive Rate, True Negative Rate, False Negative Rate]\n",
    "'''\n",
    "def bloom_binary_prediction(obs,pred):\n",
    "    obs_bloom_95 = np.percentile(obs, 95) #incorrect\n",
    "    pred_bloom_95 = np.percentile(pred, 95) #incorrect\n",
    "    obs_blooms = obs > obs_bloom_95\n",
    "    pred_blooms = pred > pred_bloom_95\n",
    "    Accuracy = 1 - (obs_blooms ^ pred_blooms).mean()\n",
    "    True_pos = (obs_blooms & pred_blooms).sum() / obs_blooms.sum()\n",
    "    False_pos = ((~obs_blooms) & pred_blooms).sum() / (~obs_blooms).sum()\n",
    "    True_neg = ((~obs_blooms) & (~pred_blooms)).sum() / (~obs_blooms).sum()\n",
    "    False_neg = (obs_blooms & (~pred_blooms)).sum() / obs_blooms.sum()\n",
    "    \n",
    "    return [Accuracy, True_pos, False_pos, True_neg, False_neg]"
   ]
  },
  {
   "cell_type": "code",
   "execution_count": 57,
   "metadata": {},
   "outputs": [
    {
     "data": {
      "text/plain": [
       "283"
      ]
     },
     "execution_count": 57,
     "metadata": {},
     "output_type": "execute_result"
    }
   ],
   "source": [
    "#Load embedding data\n",
    "input_file_path = '../Data/cleaned_data.csv'\n",
    "target = 'Avg_Chloro'\n",
    "data = pd.read_csv(input_file_path)\n",
    "data = data.set_index('time (UTC)')\n",
    "data['Time'] = data.index.astype(int)\n",
    "data = data.drop(columns=['Time'])\n",
    "\n",
    "tau_lengths = [-1,-2,-3]\n",
    "E = 6\n",
    "X, y = get_data(data, E, tau_lengths, target=target)\n",
    "embd_sz = len(data.columns) * E * len(tau_lengths)\n",
    "X = torch.tensor(X[533:], dtype=torch.float) \n",
    "y = torch.tensor(y[533:], dtype=torch.float)\n",
    "len(y)"
   ]
  },
  {
   "cell_type": "code",
   "execution_count": 58,
   "metadata": {},
   "outputs": [
    {
     "name": "stderr",
     "output_type": "stream",
     "text": [
      "/var/folders/5y/74w_zv855875xvjtmhp4g1xw0000gn/T/ipykernel_27790/2395043709.py:2: FutureWarning: You are using `torch.load` with `weights_only=False` (the current default value), which uses the default pickle module implicitly. It is possible to construct malicious pickle data which will execute arbitrary code during unpickling (See https://github.com/pytorch/pytorch/blob/main/SECURITY.md#untrusted-models for more details). In a future release, the default value for `weights_only` will be flipped to `True`. This limits the functions that could be executed during unpickling. Arbitrary objects will no longer be allowed to be loaded via this mode unless they are explicitly allowlisted by the user via `torch.serialization.add_safe_globals`. We recommend you start setting `weights_only=True` for any use case where you don't have full control of the loaded file. Please open an issue on GitHub for any issues related to this experimental feature.\n",
      "  model.load_state_dict(torch.load(\"model.pth\"))\n"
     ]
    },
    {
     "ename": "RuntimeError",
     "evalue": "Error(s) in loading state_dict for NNEDMModel:\n\tMissing key(s) in state_dict: \"fw.weight\", \"fw.bias\", \"output.weight\", \"output.bias\". \n\tUnexpected key(s) in state_dict: \"gru.weight_ih_l0\", \"gru.weight_hh_l0\", \"gru.bias_ih_l0\", \"gru.bias_hh_l0\", \"gru.weight_ih_l1\", \"gru.weight_hh_l1\", \"gru.bias_ih_l1\", \"gru.bias_hh_l1\", \"attn.in_proj_weight\", \"attn.in_proj_bias\", \"attn.out_proj.weight\", \"attn.out_proj.bias\", \"fc.weight\", \"fc.bias\". ",
     "output_type": "error",
     "traceback": [
      "\u001b[0;31m---------------------------------------------------------------------------\u001b[0m",
      "\u001b[0;31mRuntimeError\u001b[0m                              Traceback (most recent call last)",
      "Cell \u001b[0;32mIn[58], line 2\u001b[0m\n\u001b[1;32m      1\u001b[0m model \u001b[38;5;241m=\u001b[39m NNEDMModel(embd_sz,hidden_size\u001b[38;5;241m=\u001b[39m\u001b[38;5;241m100\u001b[39m)\n\u001b[0;32m----> 2\u001b[0m \u001b[43mmodel\u001b[49m\u001b[38;5;241;43m.\u001b[39;49m\u001b[43mload_state_dict\u001b[49m\u001b[43m(\u001b[49m\u001b[43mtorch\u001b[49m\u001b[38;5;241;43m.\u001b[39;49m\u001b[43mload\u001b[49m\u001b[43m(\u001b[49m\u001b[38;5;124;43m\"\u001b[39;49m\u001b[38;5;124;43mmodel.pth\u001b[39;49m\u001b[38;5;124;43m\"\u001b[39;49m\u001b[43m)\u001b[49m\u001b[43m)\u001b[49m\n\u001b[1;32m      4\u001b[0m model\u001b[38;5;241m.\u001b[39meval()\n\u001b[1;32m      5\u001b[0m prediction \u001b[38;5;241m=\u001b[39m []\n",
      "File \u001b[0;32m/opt/miniconda3/envs/ChronosHAB/lib/python3.12/site-packages/torch/nn/modules/module.py:2584\u001b[0m, in \u001b[0;36mModule.load_state_dict\u001b[0;34m(self, state_dict, strict, assign)\u001b[0m\n\u001b[1;32m   2576\u001b[0m         error_msgs\u001b[38;5;241m.\u001b[39minsert(\n\u001b[1;32m   2577\u001b[0m             \u001b[38;5;241m0\u001b[39m,\n\u001b[1;32m   2578\u001b[0m             \u001b[38;5;124m\"\u001b[39m\u001b[38;5;124mMissing key(s) in state_dict: \u001b[39m\u001b[38;5;132;01m{}\u001b[39;00m\u001b[38;5;124m. \u001b[39m\u001b[38;5;124m\"\u001b[39m\u001b[38;5;241m.\u001b[39mformat(\n\u001b[1;32m   2579\u001b[0m                 \u001b[38;5;124m\"\u001b[39m\u001b[38;5;124m, \u001b[39m\u001b[38;5;124m\"\u001b[39m\u001b[38;5;241m.\u001b[39mjoin(\u001b[38;5;124mf\u001b[39m\u001b[38;5;124m'\u001b[39m\u001b[38;5;124m\"\u001b[39m\u001b[38;5;132;01m{\u001b[39;00mk\u001b[38;5;132;01m}\u001b[39;00m\u001b[38;5;124m\"\u001b[39m\u001b[38;5;124m'\u001b[39m \u001b[38;5;28;01mfor\u001b[39;00m k \u001b[38;5;129;01min\u001b[39;00m missing_keys)\n\u001b[1;32m   2580\u001b[0m             ),\n\u001b[1;32m   2581\u001b[0m         )\n\u001b[1;32m   2583\u001b[0m \u001b[38;5;28;01mif\u001b[39;00m \u001b[38;5;28mlen\u001b[39m(error_msgs) \u001b[38;5;241m>\u001b[39m \u001b[38;5;241m0\u001b[39m:\n\u001b[0;32m-> 2584\u001b[0m     \u001b[38;5;28;01mraise\u001b[39;00m \u001b[38;5;167;01mRuntimeError\u001b[39;00m(\n\u001b[1;32m   2585\u001b[0m         \u001b[38;5;124m\"\u001b[39m\u001b[38;5;124mError(s) in loading state_dict for \u001b[39m\u001b[38;5;132;01m{}\u001b[39;00m\u001b[38;5;124m:\u001b[39m\u001b[38;5;130;01m\\n\u001b[39;00m\u001b[38;5;130;01m\\t\u001b[39;00m\u001b[38;5;132;01m{}\u001b[39;00m\u001b[38;5;124m\"\u001b[39m\u001b[38;5;241m.\u001b[39mformat(\n\u001b[1;32m   2586\u001b[0m             \u001b[38;5;28mself\u001b[39m\u001b[38;5;241m.\u001b[39m\u001b[38;5;18m__class__\u001b[39m\u001b[38;5;241m.\u001b[39m\u001b[38;5;18m__name__\u001b[39m, \u001b[38;5;124m\"\u001b[39m\u001b[38;5;130;01m\\n\u001b[39;00m\u001b[38;5;130;01m\\t\u001b[39;00m\u001b[38;5;124m\"\u001b[39m\u001b[38;5;241m.\u001b[39mjoin(error_msgs)\n\u001b[1;32m   2587\u001b[0m         )\n\u001b[1;32m   2588\u001b[0m     )\n\u001b[1;32m   2589\u001b[0m \u001b[38;5;28;01mreturn\u001b[39;00m _IncompatibleKeys(missing_keys, unexpected_keys)\n",
      "\u001b[0;31mRuntimeError\u001b[0m: Error(s) in loading state_dict for NNEDMModel:\n\tMissing key(s) in state_dict: \"fw.weight\", \"fw.bias\", \"output.weight\", \"output.bias\". \n\tUnexpected key(s) in state_dict: \"gru.weight_ih_l0\", \"gru.weight_hh_l0\", \"gru.bias_ih_l0\", \"gru.bias_hh_l0\", \"gru.weight_ih_l1\", \"gru.weight_hh_l1\", \"gru.bias_ih_l1\", \"gru.bias_hh_l1\", \"attn.in_proj_weight\", \"attn.in_proj_bias\", \"attn.out_proj.weight\", \"attn.out_proj.bias\", \"fc.weight\", \"fc.bias\". "
     ]
    }
   ],
   "source": [
    "#model = NNEDMModel(embd_sz,hidden_size=100)\n",
    "model = G\n",
    "model.load_state_dict(torch.load(\"model.pth\"))\n",
    "\n",
    "model.eval()\n",
    "prediction = []\n",
    "for inp in X:\n",
    "    prediction.append(model(inp))\n",
    "prediction = torch.tensor(prediction).numpy()"
   ]
  },
  {
   "cell_type": "code",
   "execution_count": 52,
   "metadata": {},
   "outputs": [
    {
     "data": {
      "text/plain": [
       "array([  0.7 ,   0.67,   1.41,   1.48,   0.97,   1.56,   0.74,   1.97,\n",
       "         1.49,   2.26,   1.39,   1.54,   2.3 ,   2.01,   2.7 ,   0.45,\n",
       "         1.43,   0.91,   2.21,   8.54,   5.82,  55.68,   6.28,  16.68,\n",
       "         4.29,   1.86,   0.94,   3.26,   1.74,   1.92,   1.84,   6.26,\n",
       "         2.69,   6.8 ,   4.42,   2.08,   1.78,   2.17,   2.36,   2.17,\n",
       "         1.36,   0.16,   0.98,   0.84,   0.94,   1.28,   1.43,   2.42,\n",
       "         1.28,   2.39,   1.49,   1.63,   1.11,   1.12,   1.42,   0.57,\n",
       "         0.8 ,   0.99,   0.9 ,   0.84,   0.83,   0.72,   1.73,   0.86,\n",
       "         2.71,   2.71,   2.71,   2.71,   2.71,   2.71,   2.71,   2.71,\n",
       "         2.71,   4.56,   1.6 ,   2.35,   2.54,   2.08,   2.44,   3.29,\n",
       "         2.79,   3.86,   1.59,   3.66,   0.93,   2.12,   1.66,   1.6 ,\n",
       "         1.58,   1.76,   1.83,   1.58,   1.78,   1.61,   1.61,   1.45,\n",
       "         2.02,   4.76,   2.93,   1.54,   1.5 ,   1.92,   2.88,   2.9 ,\n",
       "         3.48,   4.22,   5.44,   2.47,   4.11,   7.96,   3.23,   2.46,\n",
       "         1.84,   4.37,   5.85,   8.6 ,   8.34,   4.29,   3.66,   6.45,\n",
       "         1.93,   3.8 ,   4.59,   3.91,   1.56,   2.4 ,   4.31,   1.4 ,\n",
       "         1.32,   1.67,   2.15,   0.89,   1.37,   1.51,   1.75,   1.84,\n",
       "         2.03,   2.82,   2.35,   2.07,   4.84,   2.15,   2.72,   2.26,\n",
       "         4.86,   1.01,   3.43,   1.81,   2.14,  11.26,   2.51,   1.08,\n",
       "         8.61,   1.97,   1.9 ,   1.22,   0.98,   1.54,   1.03,   2.48,\n",
       "         0.53,   1.41,   1.14,   1.81,   3.38,   1.82,   4.97,  11.01,\n",
       "         5.2 ,   4.57,   2.79,   4.48,   8.12,   3.28,   3.14,  11.81,\n",
       "         3.19,   5.82,   2.23,   1.93,   1.32,   2.3 ,   2.58,   4.95,\n",
       "         1.97,   4.56,   1.35,   2.08,   1.32,   1.63,   1.  ,   1.18,\n",
       "         1.32,   0.95,  14.01,   7.19,  11.34,  14.74,   1.3 ,   2.45,\n",
       "         6.35,   2.61,   1.06,   1.6 ,   1.35,   1.36,   1.18,   1.13,\n",
       "         0.8 ,   1.87,   1.29,   1.07,   1.55,   2.03,   3.43,   5.04,\n",
       "         1.51,   2.73,   2.24,   1.9 ,   8.15,   2.99,  52.39, 128.39,\n",
       "         6.29,   9.46,   2.47,   4.99,  11.19,   1.21,   2.14,   1.91,\n",
       "         2.62,   3.64,   5.58,   1.74,   1.87,   3.54,   0.94,   1.66,\n",
       "         1.34,   0.99,   1.42,   4.97,  13.71,   8.81,   1.52,   2.67,\n",
       "         1.6 ,   2.68,   1.38,   0.99,   1.03,   2.89,   1.27,   3.25,\n",
       "         3.04,   1.84,   1.78,   2.23,   3.04,   1.67,   7.04,   3.81,\n",
       "         1.38,   1.37,   2.1 ,   2.24,  11.34,   2.45,   2.75,   3.39,\n",
       "         2.91,   3.68,   2.13,   1.39,   4.1 ,   4.03,   3.22,   3.39,\n",
       "         7.82,  17.3 ,  16.71], dtype=float32)"
      ]
     },
     "execution_count": 52,
     "metadata": {},
     "output_type": "execute_result"
    }
   ],
   "source": [
    "y.numpy()"
   ]
  },
  {
   "cell_type": "code",
   "execution_count": 53,
   "metadata": {},
   "outputs": [
    {
     "data": {
      "text/plain": [
       "[np.float64(0.9151943462897526),\n",
       " np.float64(0.2),\n",
       " np.float64(0.04477611940298507),\n",
       " np.float64(0.9552238805970149),\n",
       " np.float64(0.8)]"
      ]
     },
     "execution_count": 53,
     "metadata": {},
     "output_type": "execute_result"
    }
   ],
   "source": [
    "bloom_binary_prediction(y.numpy(),prediction[:-1])"
   ]
  },
  {
   "cell_type": "code",
   "execution_count": null,
   "metadata": {},
   "outputs": [],
   "source": []
  }
 ],
 "metadata": {
  "kernelspec": {
   "display_name": "ChronosHAB",
   "language": "python",
   "name": "python3"
  },
  "language_info": {
   "codemirror_mode": {
    "name": "ipython",
    "version": 3
   },
   "file_extension": ".py",
   "mimetype": "text/x-python",
   "name": "python",
   "nbconvert_exporter": "python",
   "pygments_lexer": "ipython3",
   "version": "3.12.9"
  }
 },
 "nbformat": 4,
 "nbformat_minor": 2
}
