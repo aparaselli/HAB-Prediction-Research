{
 "cells": [
  {
   "cell_type": "code",
   "execution_count": 1,
   "metadata": {},
   "outputs": [],
   "source": [
    "import random\n",
    "import numpy as np\n",
    "import torch\n",
    "import matplotlib.pyplot as plt\n",
    "import os\n",
    "import pandas as pd\n",
    "from nn_edm import *\n",
    "from gru_nn import *"
   ]
  },
  {
   "cell_type": "code",
   "execution_count": 2,
   "metadata": {},
   "outputs": [],
   "source": [
    "'''\n",
    "Binary prediction skill (“bloom” or “no bloom”) is\n",
    "evaluated by how well bloom predictions above a defined threshold\n",
    "correspond to bloom observations above the same threshold\n",
    "Input: Series of observed chlorophyll-a, series of predicted chlorophyll-1\n",
    "Output: Arrray containing [Accuracy, True Positive Rate, False Positive Rate, True Negative Rate, False Negative Rate]\n",
    "'''\n",
    "def thresh_bloom_binary_prediction(obs,pred,threshold=8.03199999999999):\n",
    "    obs_blooms = obs > threshold\n",
    "    pred_blooms = pred > threshold\n",
    "    Accuracy = 1 - (obs_blooms ^ pred_blooms).mean()\n",
    "    True_pos = (obs_blooms & pred_blooms).sum() / obs_blooms.sum()\n",
    "    False_pos = ((~obs_blooms) & pred_blooms).sum() / (~obs_blooms).sum()\n",
    "    True_neg = ((~obs_blooms) & (~pred_blooms)).sum() / (~obs_blooms).sum()\n",
    "    False_neg = (obs_blooms & (~pred_blooms)).sum() / obs_blooms.sum()\n",
    "    \n",
    "    return [Accuracy, True_pos, False_pos, True_neg, False_neg]"
   ]
  },
  {
   "cell_type": "code",
   "execution_count": 3,
   "metadata": {},
   "outputs": [],
   "source": [
    "'''\n",
    "Binary prediction skill (“bloom” or “no bloom”) is\n",
    "evaluated by how well bloom predictions (5% largest predicted values)\n",
    "correspond to bloom observations (5%largest observed values)\n",
    "Input: Series of observed chlorophyll-a, series of predicted chlorophyll-1\n",
    "Output: Arrray containing [Accuracy, True Positive Rate, False Positive Rate, True Negative Rate, False Negative Rate]\n",
    "'''\n",
    "def bloom_binary_prediction(obs,pred):\n",
    "    obs_bloom_95 = np.percentile(obs, 95) #incorrect\n",
    "    pred_bloom_95 = np.percentile(pred, 95) #incorrect\n",
    "    obs_blooms = obs > obs_bloom_95\n",
    "    pred_blooms = pred > pred_bloom_95\n",
    "    Accuracy = 1 - (obs_blooms ^ pred_blooms).mean()\n",
    "    True_pos = (obs_blooms & pred_blooms).sum() / obs_blooms.sum()\n",
    "    False_pos = ((~obs_blooms) & pred_blooms).sum() / (~obs_blooms).sum()\n",
    "    True_neg = ((~obs_blooms) & (~pred_blooms)).sum() / (~obs_blooms).sum()\n",
    "    False_neg = (obs_blooms & (~pred_blooms)).sum() / obs_blooms.sum()\n",
    "    \n",
    "    return [Accuracy, True_pos, False_pos, True_neg, False_neg]"
   ]
  },
  {
   "cell_type": "code",
   "execution_count": 27,
   "metadata": {},
   "outputs": [
    {
     "data": {
      "text/plain": [
       "284"
      ]
     },
     "execution_count": 27,
     "metadata": {},
     "output_type": "execute_result"
    }
   ],
   "source": [
    "#Load embedding data\n",
    "input_file_path = '../Data/cleaned_data.csv'\n",
    "target = 'Avg_Chloro'\n",
    "data = pd.read_csv(input_file_path)\n",
    "data = data.set_index('time (UTC)')\n",
    "data['Time'] = data.index.astype(int)\n",
    "data = data.drop(columns=['Time'])\n",
    "\n",
    "tau_lengths = [-1,-2,-3]\n",
    "E = 6\n",
    "X, y = get_data(data, E, tau_lengths, target=target)\n",
    "embd_sz = len(data.columns) * E * len(tau_lengths)\n",
    "X = torch.tensor(X[533:], dtype=torch.float) \n",
    "y = torch.tensor(y[533:], dtype=torch.float)\n",
    "len(X)"
   ]
  },
  {
   "cell_type": "code",
   "execution_count": 22,
   "metadata": {},
   "outputs": [
    {
     "name": "stderr",
     "output_type": "stream",
     "text": [
      "/var/folders/5y/74w_zv855875xvjtmhp4g1xw0000gn/T/ipykernel_67567/1692564249.py:3: FutureWarning: You are using `torch.load` with `weights_only=False` (the current default value), which uses the default pickle module implicitly. It is possible to construct malicious pickle data which will execute arbitrary code during unpickling (See https://github.com/pytorch/pytorch/blob/main/SECURITY.md#untrusted-models for more details). In a future release, the default value for `weights_only` will be flipped to `True`. This limits the functions that could be executed during unpickling. Arbitrary objects will no longer be allowed to be loaded via this mode unless they are explicitly allowlisted by the user via `torch.serialization.add_safe_globals`. We recommend you start setting `weights_only=True` for any use case where you don't have full control of the loaded file. Please open an issue on GitHub for any issues related to this experimental feature.\n",
      "  model.load_state_dict(torch.load(\"base_model.pth\"))\n"
     ]
    }
   ],
   "source": [
    "model = NNEDMModel(embd_sz,hidden_size=100)\n",
    "#model = GRUEDMModel(embd_sz=embd_sz)\n",
    "model.load_state_dict(torch.load(\"base_model.pth\"))\n",
    "\n",
    "model.eval()\n",
    "prediction = []\n",
    "for inp in X:\n",
    "    prediction.append(model(inp))\n",
    "prediction = torch.tensor(prediction).numpy()"
   ]
  },
  {
   "cell_type": "code",
   "execution_count": 26,
   "metadata": {},
   "outputs": [
    {
     "data": {
      "text/plain": [
       "array([ 2.209867 ,  1.8998418,  1.8998704,  2.1029317,  2.1288238,\n",
       "        2.0142043,  2.1412094,  1.9577843,  2.2683644,  2.164142 ,\n",
       "        2.3551452,  2.1614013,  2.1952121,  2.3856342,  2.3262348,\n",
       "        2.5009825,  1.9819975,  2.1345713,  2.044676 ,  2.325422 ,\n",
       "        3.973245 ,  3.4538572, 15.843585 ,  4.7164826,  6.080781 ,\n",
       "        3.2018096,  2.2384748,  1.9614384,  2.5669827,  2.1194422,\n",
       "        2.114854 ,  2.0926416,  3.2585194,  2.4836943,  3.3147755,\n",
       "        2.8412163,  2.186163 ,  2.0373578,  2.1411843,  2.1480374,\n",
       "        2.179303 ,  1.9396598,  1.5985733,  1.8525819,  1.804415 ,\n",
       "        1.7511569,  1.9507066,  2.0212023,  2.3076136,  2.0069497,\n",
       "        2.3133547,  2.113256 ,  2.11911  ,  2.0236065,  2.018995 ,\n",
       "        2.1007395,  1.90765  ,  1.9542669,  2.0014944,  2.0074935,\n",
       "        1.9852434,  1.9764105,  1.9646956,  2.2082717,  2.029346 ,\n",
       "        2.464256 ,  2.508235 ,  2.5208268,  2.5087414,  2.5187771,\n",
       "        2.5194933,  2.4989066,  2.4446843,  2.4874933,  2.914415 ,\n",
       "        2.2094908,  2.3483746,  2.3845546,  2.1856527,  2.2483907,\n",
       "        2.5237749,  2.3520277,  2.6077142,  2.1994267,  2.6449306,\n",
       "        1.9242244,  2.1498475,  2.0714371,  2.0456443,  2.096221 ,\n",
       "        2.1197577,  2.0655038,  1.9937207,  2.123527 ,  1.9617852,\n",
       "        1.8994774,  1.9794091,  2.0630136,  2.8216002,  2.4779327,\n",
       "        2.034618 ,  1.9832617,  2.1831286,  2.4032025,  2.4776974,\n",
       "        2.6326811,  2.8445764,  3.191528 ,  2.4837317,  2.8108041,\n",
       "        3.8299656,  2.7672615,  2.463602 ,  2.2936203,  2.9174337,\n",
       "        3.358582 ,  4.087039 ,  4.092128 ,  3.0833585,  2.8153472,\n",
       "        3.4732704,  2.4336157,  2.8245661,  3.057906 ,  2.8584979,\n",
       "        2.2835793,  2.436372 ,  2.9608169,  2.2175686,  2.060522 ,\n",
       "        2.2044985,  2.3051822,  1.9962068,  1.9857457,  2.0296779,\n",
       "        2.0573165,  2.1775777,  2.2098217,  2.285127 ,  2.2507985,\n",
       "        2.1648786,  2.9692118,  2.1884525,  2.3714035,  2.3246129,\n",
       "        2.9118376,  1.9023656,  2.598559 ,  2.2766018,  2.2833593,\n",
       "        4.536855 ,  2.6331537,  2.0524027,  3.9135222,  2.4271133,\n",
       "        2.2437801,  2.082315 ,  2.0111465,  2.1241558,  2.0126412,\n",
       "        2.3794067,  1.9253774,  2.1206496,  2.072045 ,  2.2420883,\n",
       "        2.646601 ,  2.3184884,  3.0618565,  4.649895 ,  3.342731 ,\n",
       "        3.0541358,  2.591754 ,  2.9674227,  3.9140794,  2.8345869,\n",
       "        2.6650565,  4.797298 ,  2.8663943,  3.3467155,  2.480254 ,\n",
       "        2.2567027,  2.0649452,  2.3829207,  2.3801055,  3.0094564,\n",
       "        2.2243922,  2.8350806,  2.0003939,  2.154143 ,  1.9391246,\n",
       "        2.0722318,  1.867633 ,  1.8546083,  1.7998664,  1.8380823,\n",
       "        5.045291 ,  3.6333122,  4.599519 ,  5.503248 ,  2.1973102,\n",
       "        2.25134  ,  3.1899753,  2.3666892,  1.9408383,  2.0456223,\n",
       "        2.0220873,  2.0011888,  1.991514 ,  2.0083463,  1.8713344,\n",
       "        2.16805  ,  2.0754063,  1.9990913,  2.1403105,  2.2897103,\n",
       "        2.631724 ,  3.1097035,  2.2790375,  2.476732 ,  2.3963373,\n",
       "        2.2820137,  3.83999  ,  2.7126548, 14.990082 , 35.221085 ,\n",
       "        6.5647492,  4.307614 ,  2.6247835,  3.102544 ,  4.685764 ,\n",
       "        2.3648043,  2.3374248,  2.323502 ,  2.5065365,  2.733578 ,\n",
       "        3.2831924,  2.335221 ,  2.2709074,  2.5830498,  1.9341148,\n",
       "        2.1055238,  2.0527391,  1.9418968,  1.9869215,  3.0001466,\n",
       "        5.2046146,  4.145524 ,  2.1329954,  2.347624 ,  2.1564422,\n",
       "        2.3740346,  2.067508 ,  1.8808032,  1.9110572,  2.405157 ,\n",
       "        2.0569077,  2.5275156,  2.5146   ,  2.2278311,  2.2213578,\n",
       "        2.275284 ,  2.4780662,  2.2033112,  3.5213683,  2.849778 ,\n",
       "        2.1656873,  2.0575173,  2.2736337,  2.3549585,  4.6228456,\n",
       "        2.623655 ,  2.4758253,  2.6617067,  2.5732353,  2.7433565,\n",
       "        2.3960407,  2.15225  ,  2.8235571,  2.867793 ,  2.652677 ,\n",
       "        2.6835406,  3.8167272,  6.2932425,  6.3794026], dtype=float32)"
      ]
     },
     "execution_count": 26,
     "metadata": {},
     "output_type": "execute_result"
    }
   ],
   "source": [
    "prediction"
   ]
  },
  {
   "cell_type": "code",
   "execution_count": 23,
   "metadata": {},
   "outputs": [
    {
     "data": {
      "text/plain": [
       "array([  0.7 ,   0.67,   1.41,   1.48,   0.97,   1.56,   0.74,   1.97,\n",
       "         1.49,   2.26,   1.39,   1.54,   2.3 ,   2.01,   2.7 ,   0.45,\n",
       "         1.43,   0.91,   2.21,   8.54,   5.82,  55.68,   6.28,  16.68,\n",
       "         4.29,   1.86,   0.94,   3.26,   1.74,   1.92,   1.84,   6.26,\n",
       "         2.69,   6.8 ,   4.42,   2.08,   1.78,   2.17,   2.36,   2.17,\n",
       "         1.36,   0.16,   0.98,   0.84,   0.94,   1.28,   1.43,   2.42,\n",
       "         1.28,   2.39,   1.49,   1.63,   1.11,   1.12,   1.42,   0.57,\n",
       "         0.8 ,   0.99,   0.9 ,   0.84,   0.83,   0.72,   1.73,   0.86,\n",
       "         2.71,   2.71,   2.71,   2.71,   2.71,   2.71,   2.71,   2.71,\n",
       "         2.71,   4.56,   1.6 ,   2.35,   2.54,   2.08,   2.44,   3.29,\n",
       "         2.79,   3.86,   1.59,   3.66,   0.93,   2.12,   1.66,   1.6 ,\n",
       "         1.58,   1.76,   1.83,   1.58,   1.78,   1.61,   1.61,   1.45,\n",
       "         2.02,   4.76,   2.93,   1.54,   1.5 ,   1.92,   2.88,   2.9 ,\n",
       "         3.48,   4.22,   5.44,   2.47,   4.11,   7.96,   3.23,   2.46,\n",
       "         1.84,   4.37,   5.85,   8.6 ,   8.34,   4.29,   3.66,   6.45,\n",
       "         1.93,   3.8 ,   4.59,   3.91,   1.56,   2.4 ,   4.31,   1.4 ,\n",
       "         1.32,   1.67,   2.15,   0.89,   1.37,   1.51,   1.75,   1.84,\n",
       "         2.03,   2.82,   2.35,   2.07,   4.84,   2.15,   2.72,   2.26,\n",
       "         4.86,   1.01,   3.43,   1.81,   2.14,  11.26,   2.51,   1.08,\n",
       "         8.61,   1.97,   1.9 ,   1.22,   0.98,   1.54,   1.03,   2.48,\n",
       "         0.53,   1.41,   1.14,   1.81,   3.38,   1.82,   4.97,  11.01,\n",
       "         5.2 ,   4.57,   2.79,   4.48,   8.12,   3.28,   3.14,  11.81,\n",
       "         3.19,   5.82,   2.23,   1.93,   1.32,   2.3 ,   2.58,   4.95,\n",
       "         1.97,   4.56,   1.35,   2.08,   1.32,   1.63,   1.  ,   1.18,\n",
       "         1.32,   0.95,  14.01,   7.19,  11.34,  14.74,   1.3 ,   2.45,\n",
       "         6.35,   2.61,   1.06,   1.6 ,   1.35,   1.36,   1.18,   1.13,\n",
       "         0.8 ,   1.87,   1.29,   1.07,   1.55,   2.03,   3.43,   5.04,\n",
       "         1.51,   2.73,   2.24,   1.9 ,   8.15,   2.99,  52.39, 128.39,\n",
       "         6.29,   9.46,   2.47,   4.99,  11.19,   1.21,   2.14,   1.91,\n",
       "         2.62,   3.64,   5.58,   1.74,   1.87,   3.54,   0.94,   1.66,\n",
       "         1.34,   0.99,   1.42,   4.97,  13.71,   8.81,   1.52,   2.67,\n",
       "         1.6 ,   2.68,   1.38,   0.99,   1.03,   2.89,   1.27,   3.25,\n",
       "         3.04,   1.84,   1.78,   2.23,   3.04,   1.67,   7.04,   3.81,\n",
       "         1.38,   1.37,   2.1 ,   2.24,  11.34,   2.45,   2.75,   3.39,\n",
       "         2.91,   3.68,   2.13,   1.39,   4.1 ,   4.03,   3.22,   3.39,\n",
       "         7.82,  17.3 ,  16.71], dtype=float32)"
      ]
     },
     "execution_count": 23,
     "metadata": {},
     "output_type": "execute_result"
    }
   ],
   "source": [
    "y.numpy()"
   ]
  },
  {
   "cell_type": "code",
   "execution_count": 24,
   "metadata": {},
   "outputs": [
    {
     "ename": "ValueError",
     "evalue": "operands could not be broadcast together with shapes (283,) (284,) ",
     "output_type": "error",
     "traceback": [
      "\u001b[0;31m---------------------------------------------------------------------------\u001b[0m",
      "\u001b[0;31mValueError\u001b[0m                                Traceback (most recent call last)",
      "Cell \u001b[0;32mIn[24], line 1\u001b[0m\n\u001b[0;32m----> 1\u001b[0m \u001b[43mbloom_binary_prediction\u001b[49m\u001b[43m(\u001b[49m\u001b[43my\u001b[49m\u001b[38;5;241;43m.\u001b[39;49m\u001b[43mnumpy\u001b[49m\u001b[43m(\u001b[49m\u001b[43m)\u001b[49m\u001b[43m,\u001b[49m\u001b[43mprediction\u001b[49m\u001b[43m)\u001b[49m\n",
      "Cell \u001b[0;32mIn[3], line 13\u001b[0m, in \u001b[0;36mbloom_binary_prediction\u001b[0;34m(obs, pred)\u001b[0m\n\u001b[1;32m     11\u001b[0m obs_blooms \u001b[38;5;241m=\u001b[39m obs \u001b[38;5;241m>\u001b[39m obs_bloom_95\n\u001b[1;32m     12\u001b[0m pred_blooms \u001b[38;5;241m=\u001b[39m pred \u001b[38;5;241m>\u001b[39m pred_bloom_95\n\u001b[0;32m---> 13\u001b[0m Accuracy \u001b[38;5;241m=\u001b[39m \u001b[38;5;241m1\u001b[39m \u001b[38;5;241m-\u001b[39m (\u001b[43mobs_blooms\u001b[49m\u001b[43m \u001b[49m\u001b[38;5;241;43m^\u001b[39;49m\u001b[43m \u001b[49m\u001b[43mpred_blooms\u001b[49m)\u001b[38;5;241m.\u001b[39mmean()\n\u001b[1;32m     14\u001b[0m True_pos \u001b[38;5;241m=\u001b[39m (obs_blooms \u001b[38;5;241m&\u001b[39m pred_blooms)\u001b[38;5;241m.\u001b[39msum() \u001b[38;5;241m/\u001b[39m obs_blooms\u001b[38;5;241m.\u001b[39msum()\n\u001b[1;32m     15\u001b[0m False_pos \u001b[38;5;241m=\u001b[39m ((\u001b[38;5;241m~\u001b[39mobs_blooms) \u001b[38;5;241m&\u001b[39m pred_blooms)\u001b[38;5;241m.\u001b[39msum() \u001b[38;5;241m/\u001b[39m (\u001b[38;5;241m~\u001b[39mobs_blooms)\u001b[38;5;241m.\u001b[39msum()\n",
      "\u001b[0;31mValueError\u001b[0m: operands could not be broadcast together with shapes (283,) (284,) "
     ]
    }
   ],
   "source": [
    "bloom_binary_prediction(y.numpy(),prediction)"
   ]
  },
  {
   "cell_type": "code",
   "execution_count": null,
   "metadata": {},
   "outputs": [],
   "source": []
  }
 ],
 "metadata": {
  "kernelspec": {
   "display_name": "ChronosHAB",
   "language": "python",
   "name": "python3"
  },
  "language_info": {
   "codemirror_mode": {
    "name": "ipython",
    "version": 3
   },
   "file_extension": ".py",
   "mimetype": "text/x-python",
   "name": "python",
   "nbconvert_exporter": "python",
   "pygments_lexer": "ipython3",
   "version": "3.12.9"
  }
 },
 "nbformat": 4,
 "nbformat_minor": 2
}
