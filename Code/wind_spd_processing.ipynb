{
 "cells": [
  {
   "cell_type": "code",
   "execution_count": 68,
   "metadata": {},
   "outputs": [],
   "source": [
    "import numpy as np\n",
    "import pandas as pd\n",
    "import matplotlib.pyplot as plt\n",
    "from sklearn.model_selection import train_test_split\n",
    "from sklearn.linear_model import LinearRegression\n",
    "from sklearn.metrics import mean_squared_error, r2_score\n",
    "from sklearn.base import BaseEstimator, TransformerMixin\n",
    "from sklearn.pipeline import Pipeline"
   ]
  },
  {
   "cell_type": "code",
   "execution_count": 69,
   "metadata": {},
   "outputs": [
    {
     "name": "stderr",
     "output_type": "stream",
     "text": [
      "/var/folders/5y/74w_zv855875xvjtmhp4g1xw0000gn/T/ipykernel_22347/1717233576.py:2: FutureWarning: The 'delim_whitespace' keyword in pd.read_table is deprecated and will be removed in a future version. Use ``sep='\\s+'`` instead\n",
      "  df = pd.read_table(filepath, delim_whitespace=True)\n"
     ]
    },
    {
     "data": {
      "text/html": [
       "<div>\n",
       "<style scoped>\n",
       "    .dataframe tbody tr th:only-of-type {\n",
       "        vertical-align: middle;\n",
       "    }\n",
       "\n",
       "    .dataframe tbody tr th {\n",
       "        vertical-align: top;\n",
       "    }\n",
       "\n",
       "    .dataframe thead th {\n",
       "        text-align: right;\n",
       "    }\n",
       "</style>\n",
       "<table border=\"1\" class=\"dataframe\">\n",
       "  <thead>\n",
       "    <tr style=\"text-align: right;\">\n",
       "      <th></th>\n",
       "      <th>time</th>\n",
       "      <th>WSPD</th>\n",
       "    </tr>\n",
       "  </thead>\n",
       "  <tbody>\n",
       "  </tbody>\n",
       "</table>\n",
       "</div>"
      ],
      "text/plain": [
       "Empty DataFrame\n",
       "Columns: [time, WSPD]\n",
       "Index: []"
      ]
     },
     "execution_count": 69,
     "metadata": {},
     "output_type": "execute_result"
    }
   ],
   "source": [
    "def process_wind_file(filepath):\n",
    "    df = pd.read_table(filepath, delim_whitespace=True)\n",
    "    df = df.drop(index=df.index[0])\n",
    "    df = df[df['#YY'] == filepath]\n",
    "\n",
    "    for col in df.columns:\n",
    "        df[col] = pd.to_numeric(df[col], errors='coerce')\n",
    "    #print(df)\n",
    "    df = df.groupby(['MM','DD', '#YY']).mean().reset_index()\n",
    "    df.rename(columns={'#YY': 'year', 'MM': 'month', 'DD': 'day'}, inplace=True)\n",
    "    #add time to df which has datetime\n",
    "    df['time'] = pd.to_datetime(df[['year', 'month', 'day']])\n",
    "    df['time'] = df['time'].dt.date\n",
    "    return df[['time','WSPD']]\n",
    "\n",
    "process_wind_file(\"Data/Wind/wind2009.txt\")"
   ]
  },
  {
   "cell_type": "code",
   "execution_count": 70,
   "metadata": {},
   "outputs": [
    {
     "name": "stderr",
     "output_type": "stream",
     "text": [
      "/var/folders/5y/74w_zv855875xvjtmhp4g1xw0000gn/T/ipykernel_22347/1717233576.py:2: FutureWarning: The 'delim_whitespace' keyword in pd.read_table is deprecated and will be removed in a future version. Use ``sep='\\s+'`` instead\n",
      "  df = pd.read_table(filepath, delim_whitespace=True)\n",
      "/var/folders/5y/74w_zv855875xvjtmhp4g1xw0000gn/T/ipykernel_22347/1717233576.py:2: FutureWarning: The 'delim_whitespace' keyword in pd.read_table is deprecated and will be removed in a future version. Use ``sep='\\s+'`` instead\n",
      "  df = pd.read_table(filepath, delim_whitespace=True)\n",
      "/var/folders/5y/74w_zv855875xvjtmhp4g1xw0000gn/T/ipykernel_22347/1717233576.py:2: FutureWarning: The 'delim_whitespace' keyword in pd.read_table is deprecated and will be removed in a future version. Use ``sep='\\s+'`` instead\n",
      "  df = pd.read_table(filepath, delim_whitespace=True)\n",
      "/var/folders/5y/74w_zv855875xvjtmhp4g1xw0000gn/T/ipykernel_22347/1717233576.py:2: FutureWarning: The 'delim_whitespace' keyword in pd.read_table is deprecated and will be removed in a future version. Use ``sep='\\s+'`` instead\n",
      "  df = pd.read_table(filepath, delim_whitespace=True)\n",
      "/var/folders/5y/74w_zv855875xvjtmhp4g1xw0000gn/T/ipykernel_22347/1717233576.py:2: FutureWarning: The 'delim_whitespace' keyword in pd.read_table is deprecated and will be removed in a future version. Use ``sep='\\s+'`` instead\n",
      "  df = pd.read_table(filepath, delim_whitespace=True)\n",
      "/var/folders/5y/74w_zv855875xvjtmhp4g1xw0000gn/T/ipykernel_22347/1717233576.py:2: FutureWarning: The 'delim_whitespace' keyword in pd.read_table is deprecated and will be removed in a future version. Use ``sep='\\s+'`` instead\n",
      "  df = pd.read_table(filepath, delim_whitespace=True)\n",
      "/var/folders/5y/74w_zv855875xvjtmhp4g1xw0000gn/T/ipykernel_22347/1717233576.py:2: FutureWarning: The 'delim_whitespace' keyword in pd.read_table is deprecated and will be removed in a future version. Use ``sep='\\s+'`` instead\n",
      "  df = pd.read_table(filepath, delim_whitespace=True)\n",
      "/var/folders/5y/74w_zv855875xvjtmhp4g1xw0000gn/T/ipykernel_22347/1717233576.py:2: FutureWarning: The 'delim_whitespace' keyword in pd.read_table is deprecated and will be removed in a future version. Use ``sep='\\s+'`` instead\n",
      "  df = pd.read_table(filepath, delim_whitespace=True)\n",
      "/var/folders/5y/74w_zv855875xvjtmhp4g1xw0000gn/T/ipykernel_22347/1717233576.py:2: FutureWarning: The 'delim_whitespace' keyword in pd.read_table is deprecated and will be removed in a future version. Use ``sep='\\s+'`` instead\n",
      "  df = pd.read_table(filepath, delim_whitespace=True)\n",
      "/var/folders/5y/74w_zv855875xvjtmhp4g1xw0000gn/T/ipykernel_22347/1717233576.py:2: FutureWarning: The 'delim_whitespace' keyword in pd.read_table is deprecated and will be removed in a future version. Use ``sep='\\s+'`` instead\n",
      "  df = pd.read_table(filepath, delim_whitespace=True)\n",
      "/var/folders/5y/74w_zv855875xvjtmhp4g1xw0000gn/T/ipykernel_22347/1717233576.py:2: DtypeWarning: Columns (0,1,2,3,4,5,6,7,8,9,10,11,12,13,14,15,16,17) have mixed types. Specify dtype option on import or set low_memory=False.\n",
      "  df = pd.read_table(filepath, delim_whitespace=True)\n",
      "/var/folders/5y/74w_zv855875xvjtmhp4g1xw0000gn/T/ipykernel_22347/1717233576.py:2: FutureWarning: The 'delim_whitespace' keyword in pd.read_table is deprecated and will be removed in a future version. Use ``sep='\\s+'`` instead\n",
      "  df = pd.read_table(filepath, delim_whitespace=True)\n",
      "/var/folders/5y/74w_zv855875xvjtmhp4g1xw0000gn/T/ipykernel_22347/1717233576.py:2: DtypeWarning: Columns (0,1,2,3,4,5,6,7,8,9,10,11,12,13,14,15,16,17) have mixed types. Specify dtype option on import or set low_memory=False.\n",
      "  df = pd.read_table(filepath, delim_whitespace=True)\n",
      "/var/folders/5y/74w_zv855875xvjtmhp4g1xw0000gn/T/ipykernel_22347/1717233576.py:2: FutureWarning: The 'delim_whitespace' keyword in pd.read_table is deprecated and will be removed in a future version. Use ``sep='\\s+'`` instead\n",
      "  df = pd.read_table(filepath, delim_whitespace=True)\n",
      "/var/folders/5y/74w_zv855875xvjtmhp4g1xw0000gn/T/ipykernel_22347/1717233576.py:2: DtypeWarning: Columns (0,1,2,3,4,5,6,7,8,9,10,11,12,13,14,15,16,17) have mixed types. Specify dtype option on import or set low_memory=False.\n",
      "  df = pd.read_table(filepath, delim_whitespace=True)\n",
      "/var/folders/5y/74w_zv855875xvjtmhp4g1xw0000gn/T/ipykernel_22347/1717233576.py:2: FutureWarning: The 'delim_whitespace' keyword in pd.read_table is deprecated and will be removed in a future version. Use ``sep='\\s+'`` instead\n",
      "  df = pd.read_table(filepath, delim_whitespace=True)\n",
      "/var/folders/5y/74w_zv855875xvjtmhp4g1xw0000gn/T/ipykernel_22347/1717233576.py:2: DtypeWarning: Columns (0,1,2,3,4,5,6,7,8,9,10,11,12,13,14,15,16,17) have mixed types. Specify dtype option on import or set low_memory=False.\n",
      "  df = pd.read_table(filepath, delim_whitespace=True)\n",
      "/var/folders/5y/74w_zv855875xvjtmhp4g1xw0000gn/T/ipykernel_22347/1717233576.py:2: FutureWarning: The 'delim_whitespace' keyword in pd.read_table is deprecated and will be removed in a future version. Use ``sep='\\s+'`` instead\n",
      "  df = pd.read_table(filepath, delim_whitespace=True)\n",
      "/var/folders/5y/74w_zv855875xvjtmhp4g1xw0000gn/T/ipykernel_22347/1717233576.py:2: DtypeWarning: Columns (0,1,2,3,4,5,6,7,8,9,10,11,12,13,14,15,16,17) have mixed types. Specify dtype option on import or set low_memory=False.\n",
      "  df = pd.read_table(filepath, delim_whitespace=True)\n",
      "/var/folders/5y/74w_zv855875xvjtmhp4g1xw0000gn/T/ipykernel_22347/1717233576.py:2: FutureWarning: The 'delim_whitespace' keyword in pd.read_table is deprecated and will be removed in a future version. Use ``sep='\\s+'`` instead\n",
      "  df = pd.read_table(filepath, delim_whitespace=True)\n",
      "/var/folders/5y/74w_zv855875xvjtmhp4g1xw0000gn/T/ipykernel_22347/1717233576.py:2: DtypeWarning: Columns (0,1,2,3,4,5,6,7,8,9,10,11,12,13,14,15,16,17) have mixed types. Specify dtype option on import or set low_memory=False.\n",
      "  df = pd.read_table(filepath, delim_whitespace=True)\n",
      "/var/folders/5y/74w_zv855875xvjtmhp4g1xw0000gn/T/ipykernel_22347/1717233576.py:2: FutureWarning: The 'delim_whitespace' keyword in pd.read_table is deprecated and will be removed in a future version. Use ``sep='\\s+'`` instead\n",
      "  df = pd.read_table(filepath, delim_whitespace=True)\n",
      "/var/folders/5y/74w_zv855875xvjtmhp4g1xw0000gn/T/ipykernel_22347/1717233576.py:2: DtypeWarning: Columns (0,1,2,3,4,5,6,7,8,9,10,11,12,13,14,15,16,17) have mixed types. Specify dtype option on import or set low_memory=False.\n",
      "  df = pd.read_table(filepath, delim_whitespace=True)\n"
     ]
    },
    {
     "data": {
      "text/html": [
       "<div>\n",
       "<style scoped>\n",
       "    .dataframe tbody tr th:only-of-type {\n",
       "        vertical-align: middle;\n",
       "    }\n",
       "\n",
       "    .dataframe tbody tr th {\n",
       "        vertical-align: top;\n",
       "    }\n",
       "\n",
       "    .dataframe thead th {\n",
       "        text-align: right;\n",
       "    }\n",
       "</style>\n",
       "<table border=\"1\" class=\"dataframe\">\n",
       "  <thead>\n",
       "    <tr style=\"text-align: right;\">\n",
       "      <th></th>\n",
       "      <th>time</th>\n",
       "      <th>WSPD</th>\n",
       "    </tr>\n",
       "  </thead>\n",
       "  <tbody>\n",
       "  </tbody>\n",
       "</table>\n",
       "</div>"
      ],
      "text/plain": [
       "Empty DataFrame\n",
       "Columns: [time, WSPD]\n",
       "Index: []"
      ]
     },
     "execution_count": 70,
     "metadata": {},
     "output_type": "execute_result"
    }
   ],
   "source": [
    "fin_df = process_wind_file(\"Data/Wind/wind2008.txt\")\n",
    "for i in range(2009, 2024, 1):\n",
    "    #print(i)\n",
    "    fin_df = pd.concat([fin_df, process_wind_file(\"Data/Wind/wind\" + str(i) + \".txt\")])\n",
    "fin_df"
   ]
  },
  {
   "cell_type": "code",
   "execution_count": 71,
   "metadata": {},
   "outputs": [
    {
     "data": {
      "text/plain": [
       "0"
      ]
     },
     "execution_count": 71,
     "metadata": {},
     "output_type": "execute_result"
    }
   ],
   "source": [
    "def to_str(dt):\n",
    "    return dt.strftime('%m/%d/%Y')\n",
    "len(np.unique(fin_df['time'].apply(to_str)))"
   ]
  },
  {
   "cell_type": "code",
   "execution_count": 72,
   "metadata": {},
   "outputs": [
    {
     "name": "stderr",
     "output_type": "stream",
     "text": [
      "/var/folders/5y/74w_zv855875xvjtmhp4g1xw0000gn/T/ipykernel_22347/1717233576.py:2: FutureWarning: The 'delim_whitespace' keyword in pd.read_table is deprecated and will be removed in a future version. Use ``sep='\\s+'`` instead\n",
      "  df = pd.read_table(filepath, delim_whitespace=True)\n"
     ]
    },
    {
     "data": {
      "text/plain": [
       "0"
      ]
     },
     "execution_count": 72,
     "metadata": {},
     "output_type": "execute_result"
    }
   ],
   "source": [
    "len(np.unique(process_wind_file(\"Data/Wind/wind\" + str(2013) + \".txt\")['time']))"
   ]
  },
  {
   "cell_type": "code",
   "execution_count": 73,
   "metadata": {},
   "outputs": [
    {
     "name": "stderr",
     "output_type": "stream",
     "text": [
      "/var/folders/5y/74w_zv855875xvjtmhp4g1xw0000gn/T/ipykernel_22347/1717233576.py:2: FutureWarning: The 'delim_whitespace' keyword in pd.read_table is deprecated and will be removed in a future version. Use ``sep='\\s+'`` instead\n",
      "  df = pd.read_table(filepath, delim_whitespace=True)\n"
     ]
    },
    {
     "data": {
      "text/html": [
       "<div>\n",
       "<style scoped>\n",
       "    .dataframe tbody tr th:only-of-type {\n",
       "        vertical-align: middle;\n",
       "    }\n",
       "\n",
       "    .dataframe tbody tr th {\n",
       "        vertical-align: top;\n",
       "    }\n",
       "\n",
       "    .dataframe thead th {\n",
       "        text-align: right;\n",
       "    }\n",
       "</style>\n",
       "<table border=\"1\" class=\"dataframe\">\n",
       "  <thead>\n",
       "    <tr style=\"text-align: right;\">\n",
       "      <th></th>\n",
       "      <th>time</th>\n",
       "      <th>WSPD</th>\n",
       "    </tr>\n",
       "  </thead>\n",
       "  <tbody>\n",
       "  </tbody>\n",
       "</table>\n",
       "</div>"
      ],
      "text/plain": [
       "Empty DataFrame\n",
       "Columns: [time, WSPD]\n",
       "Index: []"
      ]
     },
     "execution_count": 73,
     "metadata": {},
     "output_type": "execute_result"
    }
   ],
   "source": [
    "process_wind_file(\"Data/Wind/wind\" + str(2012) + \".txt\")"
   ]
  },
  {
   "cell_type": "code",
   "execution_count": null,
   "metadata": {},
   "outputs": [],
   "source": []
  }
 ],
 "metadata": {
  "kernelspec": {
   "display_name": "pyedm_env",
   "language": "python",
   "name": "python3"
  },
  "language_info": {
   "codemirror_mode": {
    "name": "ipython",
    "version": 3
   },
   "file_extension": ".py",
   "mimetype": "text/x-python",
   "name": "python",
   "nbconvert_exporter": "python",
   "pygments_lexer": "ipython3",
   "version": "3.9.21"
  }
 },
 "nbformat": 4,
 "nbformat_minor": 2
}
